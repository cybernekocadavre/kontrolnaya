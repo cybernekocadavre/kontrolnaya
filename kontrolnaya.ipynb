{
 "cells": [
  {
   "cell_type": "code",
   "execution_count": null,
   "id": "7c69d0f6",
   "metadata": {},
   "outputs": [],
   "source": [
    "import os\n",
    "import sys\n",
    "\n",
    "def create_directory_structure(input_file):\n",
    "    with open(input_file, 'r') as f:\n",
    "        lines = f.readlines()\n",
    "    \n",
    "    group_name = lines[0].strip()\n",
    "    num_practices = int(lines[1].strip())\n",
    "\n",
    "    # Директория группы\n",
    "    group_directory = os.path.join(os.getcwd(), group_name)\n",
    "    os.makedirs(group_directory, exist_ok=True)\n",
    "\n",
    "    common_directories = ['практика', 'контрольная_работа', 'курсовая_работа', 'сессия', 'билеты']\n",
    "    for directory in common_directories:\n",
    "        os.makedirs(os.path.join(group_directory, directory), exist_ok=True)\n",
    "\n",
    "    # Информация о студентах\n",
    "    student_info = lines[2:]\n",
    "    \n",
    "    for info in student_info:\n",
    "        # Проходим по каждому студентику\n",
    "        info = info.strip().split()\n",
    "        surname = info[0]\n",
    "        student_directory = os.path.join(group_directory, surname)\n",
    "        os.makedirs(student_directory, exist_ok=True)\n",
    "\n",
    "        with open(os.path.join(student_directory, 'README.TXT'), 'w') as readme_file:\n",
    "            readme_file.write(\" \".join(info))\n",
    "\n",
    "        # Директории практик\n",
    "        for i in range(1, num_practices+1):\n",
    "            practice_directory = os.path.join(student_directory, f'практика{i:02}')\n",
    "            os.makedirs(practice_directory, exist_ok=True)\n",
    "\n",
    "        # Ну и остальные директории\n",
    "        other_directories = ['Контрольная_работа', 'Курсовая_работа', 'Сессия']\n",
    "        for directory in other_directories:\n",
    "            os.makedirs(os.path.join(student_directory, directory), exist_ok=True)\n",
    "\n",
    "if __name__ == \"__main__\":\n",
    "    if len(sys.argv) != 2:\n",
    "        # 2 аргумента поскольку пример ввода выглядит так:\n",
    "        # python script.py input_file.txt\n",
    "        print(\"Пример ввода: python script.py input_file.txt\")\n",
    "        sys.exit(1)\n",
    "\n",
    "    input_file = sys.argv[1]\n",
    "    create_directory_structure(input_file)"
   ]
  }
 ],
 "metadata": {
  "kernelspec": {
   "display_name": "Python 3 (ipykernel)",
   "language": "python",
   "name": "python3"
  },
  "language_info": {
   "codemirror_mode": {
    "name": "ipython",
    "version": 3
   },
   "file_extension": ".py",
   "mimetype": "text/x-python",
   "name": "python",
   "nbconvert_exporter": "python",
   "pygments_lexer": "ipython3",
   "version": "3.9.12"
  }
 },
 "nbformat": 4,
 "nbformat_minor": 5
}
